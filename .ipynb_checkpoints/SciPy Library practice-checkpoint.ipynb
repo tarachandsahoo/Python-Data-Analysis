{
 "cells": [
  {
   "cell_type": "code",
   "execution_count": 5,
   "metadata": {},
   "outputs": [],
   "source": [
    "#import important libraries\n",
    "import numpy as np\n",
    "from scipy import linalg "
   ]
  },
  {
   "cell_type": "code",
   "execution_count": 7,
   "metadata": {},
   "outputs": [],
   "source": [
    "#test has 30 questions & worth 150 marks\n",
    "#true & False questions worth 4 marks each\n",
    "#Multiple choice questions are worth 9 points each\n",
    "\n",
    "#let x be the number of true/false questions\n",
    "#let y be the number of multiple questions\n",
    "\n",
    "# (x+y=30)\n",
    "#(4x+9y = 150)\n",
    "testQuestionvariable = np.array([[1,1],[4,9]])\n",
    "testQuestionvalue = np.array([30,150])\n",
    "\n"
   ]
  },
  {
   "cell_type": "code",
   "execution_count": 8,
   "metadata": {},
   "outputs": [
    {
     "data": {
      "text/plain": [
       "array([24.,  6.])"
      ]
     },
     "execution_count": 8,
     "metadata": {},
     "output_type": "execute_result"
    }
   ],
   "source": [
    "#use linalg function of scipy\n",
    "#use solve method to solve the linear equation & find value for x & y\n",
    "\n",
    "linalg.solve(testQuestionvariable,testQuestionvalue)"
   ]
  },
  {
   "cell_type": "code",
   "execution_count": null,
   "metadata": {},
   "outputs": [],
   "source": []
  },
  {
   "cell_type": "code",
   "execution_count": null,
   "metadata": {},
   "outputs": [],
   "source": []
  }
 ],
 "metadata": {
  "kernelspec": {
   "display_name": "Python 3",
   "language": "python",
   "name": "python3"
  },
  "language_info": {
   "codemirror_mode": {
    "name": "ipython",
    "version": 3
   },
   "file_extension": ".py",
   "mimetype": "text/x-python",
   "name": "python",
   "nbconvert_exporter": "python",
   "pygments_lexer": "ipython3",
   "version": "3.8.3"
  }
 },
 "nbformat": 4,
 "nbformat_minor": 4
}
